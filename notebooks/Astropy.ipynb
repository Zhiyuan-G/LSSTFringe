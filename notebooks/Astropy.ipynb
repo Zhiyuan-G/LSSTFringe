{
 "cells": [
  {
   "cell_type": "code",
   "execution_count": 113,
   "id": "fb3922bb-e452-4ef6-aa7c-0dc683c54a59",
   "metadata": {},
   "outputs": [],
   "source": [
    "%matplotlib inline\n",
    "%config InlineBackend.figure_format = 'retina'\n",
    "%config InlineBackend.print_figure_kwargs={'facecolor' : \"w\"}\n",
    "\n",
    "import numpy as np\n",
    "import pandas as pd\n",
    "\n",
    "import matplotlib\n",
    "import matplotlib.pyplot as plt\n",
    "\n",
    "from math import pi\n",
    "\n",
    "from astropy.table import QTable\n",
    "from astropy import coordinates as coordinates\n",
    "from astropy import cosmology\n",
    "from astropy import units as u\n",
    "from astropy import constants as const\n",
    "\n",
    "matplotlib.rcParams['savefig.dpi'] = 120\n",
    "matplotlib.rcParams['figure.dpi'] = 120"
   ]
  },
  {
   "cell_type": "markdown",
   "id": "0cefd682-9874-4c6d-8ac7-5c559d8f27d0",
   "metadata": {},
   "source": [
    "## First use Robert's equation"
   ]
  },
  {
   "cell_type": "code",
   "execution_count": 165,
   "id": "e208d176-cbec-4eb4-8985-f463e0d3f9d6",
   "metadata": {},
   "outputs": [],
   "source": [
    "# Robert's Equation\n",
    "\n",
    "def N_phot(uJy, R, diameter, seconds):\n",
    "    area = pi * (diameter/2)**2\n",
    "    return 15.0919/R * uJy * seconds * area"
   ]
  },
  {
   "cell_type": "markdown",
   "id": "e4d58a5b-07ed-4391-ba8e-2650b2a184ba",
   "metadata": {},
   "source": [
    "Robert gives the example of a 20 uJky source with a R of 5.5 in a 8 meter mirror for 1 second"
   ]
  },
  {
   "cell_type": "code",
   "execution_count": 171,
   "id": "d9664345-afed-4f72-9d0d-301f9626f5d1",
   "metadata": {},
   "outputs": [
    {
     "data": {
      "text/plain": [
       "2758.5513989068686"
      ]
     },
     "execution_count": 171,
     "metadata": {},
     "output_type": "execute_result"
    }
   ],
   "source": [
    "# Robert text says to expect 5000 in text. We get ~2800\n",
    "\n",
    "N_phot(20, 5.5, 8, 1)"
   ]
  },
  {
   "cell_type": "markdown",
   "id": "947de529-24f3-458f-a5ef-1b112e8655b8",
   "metadata": {},
   "source": [
    "## Now use astropy to convert from $\\mu$Jy to photons"
   ]
  },
  {
   "cell_type": "markdown",
   "id": "27b19b05-4094-46b5-b33e-c99289b231d9",
   "metadata": {},
   "source": [
    "First use the first two examples in Robert's note"
   ]
  },
  {
   "cell_type": "code",
   "execution_count": 172,
   "id": "6666ee7f-c837-4cd2-813f-b51d9ae828f0",
   "metadata": {},
   "outputs": [
    {
     "data": {
      "text/latex": [
       "$9.9633992 \\times 10^{9} \\; \\mathrm{\\frac{ph}{s\\,m^{2}}}$"
      ],
      "text/plain": [
       "<Quantity 9.96339917e+09 ph / (m2 s)>"
      ]
     },
     "execution_count": 172,
     "metadata": {},
     "output_type": "execute_result"
    }
   ],
   "source": [
    "eff = 800\n",
    "R = 5.5\n",
    "\n",
    "(3631*u.Jy).to(u.photon / u.m**2 / u.s / u.nm, equivalencies=u.spectral_density(eff*u.nm))*(eff/R)*u.nm"
   ]
  },
  {
   "cell_type": "markdown",
   "id": "08ba3c30-988a-4b6c-9ffb-35181a557306",
   "metadata": {},
   "source": [
    "Same as Robert's equation above.  Confirm we get same answer."
   ]
  },
  {
   "cell_type": "code",
   "execution_count": 112,
   "id": "d6112551-8b2d-45e1-8ff8-7183a8db869a",
   "metadata": {},
   "outputs": [
    {
     "data": {
      "text/latex": [
       "$2758.5517 \\; \\mathrm{\\frac{ph}{s}}$"
      ],
      "text/plain": [
       "<Quantity 2758.55172726 ph / s>"
      ]
     },
     "execution_count": 112,
     "metadata": {},
     "output_type": "execute_result"
    }
   ],
   "source": [
    "(20*u.uJy).to(u.photon / u.m**2 / u.s / u.nm, equivalencies=u.spectral_density(eff*u.nm))*(eff/R)*u.nm * pi*(8/2)**2*u.m**2"
   ]
  },
  {
   "cell_type": "markdown",
   "id": "be2f2af4-5a3d-47c7-8273-bb99261314a1",
   "metadata": {},
   "source": [
    "Now make a table as function of AB magnitude"
   ]
  },
  {
   "cell_type": "code",
   "execution_count": 173,
   "id": "498271cc-26f7-4004-bd61-b1560ac987aa",
   "metadata": {},
   "outputs": [],
   "source": [
    "eff = 800\n",
    "R = 5.5\n",
    "\n",
    "a = [20, 21, 22, 23, 24, 25, 26, 27, 28, 29, 30]*u.ABmag\n",
    "b = a.to(u.nJy)\n",
    "c = b.to(u.photon / u.m**2 / u.s / u.nm, equivalencies=u.spectral_density(eff*u.nm))*(eff/R)*u.nm\n",
    "d = c * pi*(8.0/2)**2*u.m**2\n",
    "e = d * 30*u.s\n",
    "\n",
    "t = QTable([a, b, c, d, e], names=('Magnitude', 'Flux', 'Photons', 'per Rubin', 'Per Exposure'))\n",
    "\n",
    "t.round(2)"
   ]
  },
  {
   "cell_type": "code",
   "execution_count": 169,
   "id": "d72586db-bcfe-4d5d-a494-cd44faec8948",
   "metadata": {},
   "outputs": [
    {
     "data": {
      "text/html": [
       "<div><i>QTable length=11</i>\n",
       "<table id=\"table6646970496\" class=\"table-striped table-bordered table-condensed\">\n",
       "<thead><tr><th>Magnitude</th><th>Flux</th><th>Photons</th><th>per Rubin</th><th>Per Exposure</th></tr></thead>\n",
       "<thead><tr><th>mag(AB)</th><th>nJy</th><th>ph / (m2 s)</th><th>ph / s</th><th>ph</th></tr></thead>\n",
       "<thead><tr><th>float64</th><th>float64</th><th>float64</th><th>float64</th><th>float64</th></tr></thead>\n",
       "<tr><td>20.0</td><td>36307.81</td><td>99.63</td><td>5007.85</td><td>150235.44</td></tr>\n",
       "<tr><td>21.0</td><td>14454.4</td><td>39.66</td><td>1993.66</td><td>59809.81</td></tr>\n",
       "<tr><td>22.0</td><td>5754.4</td><td>15.79</td><td>793.69</td><td>23810.71</td></tr>\n",
       "<tr><td>23.0</td><td>2290.87</td><td>6.29</td><td>315.97</td><td>9479.22</td></tr>\n",
       "<tr><td>24.0</td><td>912.01</td><td>2.5</td><td>125.79</td><td>3773.74</td></tr>\n",
       "<tr><td>25.0</td><td>363.08</td><td>1.0</td><td>50.08</td><td>1502.35</td></tr>\n",
       "<tr><td>26.0</td><td>144.54</td><td>0.4</td><td>19.94</td><td>598.1</td></tr>\n",
       "<tr><td>27.0</td><td>57.54</td><td>0.16</td><td>7.94</td><td>238.11</td></tr>\n",
       "<tr><td>28.0</td><td>22.91</td><td>0.06</td><td>3.16</td><td>94.79</td></tr>\n",
       "<tr><td>29.0</td><td>9.12</td><td>0.03</td><td>1.26</td><td>37.74</td></tr>\n",
       "<tr><td>30.0</td><td>3.63</td><td>0.01</td><td>0.5</td><td>15.02</td></tr>\n",
       "</table></div>"
      ],
      "text/plain": [
       "<QTable length=11>\n",
       "Magnitude   Flux     Photons   per Rubin Per Exposure\n",
       " mag(AB)    nJy    ph / (m2 s)   ph / s       ph     \n",
       " float64  float64    float64    float64    float64   \n",
       "--------- -------- ----------- --------- ------------\n",
       "     20.0 36307.81       99.63   5007.85    150235.44\n",
       "     21.0  14454.4       39.66   1993.66     59809.81\n",
       "     22.0   5754.4       15.79    793.69     23810.71\n",
       "     23.0  2290.87        6.29    315.97      9479.22\n",
       "     24.0   912.01         2.5    125.79      3773.74\n",
       "     25.0   363.08         1.0     50.08      1502.35\n",
       "     26.0   144.54         0.4     19.94        598.1\n",
       "     27.0    57.54        0.16      7.94       238.11\n",
       "     28.0    22.91        0.06      3.16        94.79\n",
       "     29.0     9.12        0.03      1.26        37.74\n",
       "     30.0     3.63        0.01       0.5        15.02"
      ]
     },
     "execution_count": 169,
     "metadata": {},
     "output_type": "execute_result"
    }
   ],
   "source": [
    "t"
   ]
  },
  {
   "cell_type": "code",
   "execution_count": null,
   "id": "8d5e7129-5a14-4dd2-9c40-46b8a952de1b",
   "metadata": {},
   "outputs": [],
   "source": []
  }
 ],
 "metadata": {
  "kernelspec": {
   "display_name": "Python [conda env:lsst-scipipe-4.0.1-ext] *",
   "language": "python",
   "name": "conda-env-lsst-scipipe-4.0.1-ext-py"
  },
  "language_info": {
   "codemirror_mode": {
    "name": "ipython",
    "version": 3
   },
   "file_extension": ".py",
   "mimetype": "text/x-python",
   "name": "python",
   "nbconvert_exporter": "python",
   "pygments_lexer": "ipython3",
   "version": "3.10.5"
  }
 },
 "nbformat": 4,
 "nbformat_minor": 5
}
