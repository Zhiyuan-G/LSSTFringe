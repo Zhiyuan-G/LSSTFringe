{
 "cells": [
  {
   "cell_type": "markdown",
   "id": "bf9d2b3f-ebb0-4c75-9eb4-86b5dc327bdb",
   "metadata": {},
   "source": [
    "### Resolution of LSST filters "
   ]
  },
  {
   "cell_type": "code",
   "execution_count": 1,
   "id": "8951a207-50f7-4881-ae1e-491aafaf720e",
   "metadata": {},
   "outputs": [
    {
     "name": "stdout",
     "output_type": "stream",
     "text": [
      "u: 9.6045197740113\n",
      "g: 4.7091412742382275\n",
      "r: 5.0325636471284785\n",
      "i: 5.417463352453792\n",
      "z: 6.273062730627307\n",
      "y: 4.46194225721785\n"
     ]
    }
   ],
   "source": [
    "import numpy as np\n",
    "from rubin_sim.photUtils import BandpassDict, Sed\n",
    "\n",
    "\n",
    "bandpassdict = BandpassDict.loadBandpassesFromFiles()[0]\n",
    "band_name = ['u','g','r','i','z','y']\n",
    "for name in band_name:\n",
    "    bandpass = bandpassdict[name]\n",
    "    s = np.where(bandpass.sb != 0)[0][0]\n",
    "    e = np.where(bandpass.sb != 0)[0][-1]\n",
    "    r = (bandpass.wavelen[-1]-bandpass.wavelen[0])/(bandpass.wavelen[e]-bandpass.wavelen[s])\n",
    "    print(name + \": \" + str(r))"
   ]
  }
 ],
 "metadata": {
  "kernelspec": {
   "display_name": "Python 3 (ipykernel)",
   "language": "python",
   "name": "python3"
  },
  "language_info": {
   "codemirror_mode": {
    "name": "ipython",
    "version": 3
   },
   "file_extension": ".py",
   "mimetype": "text/x-python",
   "name": "python",
   "nbconvert_exporter": "python",
   "pygments_lexer": "ipython3",
   "version": "3.9.7"
  }
 },
 "nbformat": 4,
 "nbformat_minor": 5
}
